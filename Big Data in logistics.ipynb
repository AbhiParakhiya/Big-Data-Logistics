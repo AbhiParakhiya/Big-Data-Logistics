{
 "cells": [
  {
   "cell_type": "code",
   "execution_count": 1,
   "metadata": {
    "application/vnd.databricks.v1+cell": {
     "cellMetadata": {
      "byteLimit": 2048000,
      "rowLimit": 10000
     },
     "inputWidgets": {},
     "nuid": "ef5304ac-bf76-4957-b678-d5a2ab8a980b",
     "showTitle": false,
     "tableResultSettingsMap": {},
     "title": ""
    }
   },
   "outputs": [],
   "source": [
    "from pyspark.sql import SparkSession\n",
    "from pyspark.sql import functions as F\n",
    "from pyspark.sql.window import Window\n",
    "import matplotlib.pyplot as plt\n",
    "import seaborn as sns\n",
    "import pandas as pd\n",
    "import warnings\n",
    "warnings.filterwarnings(\"ignore\")\n",
    "\n",
    "# Create or retrieve a Spark session\n",
    "spark = SparkSession.builder \\\n",
    "    .appName(\"LogisticsBigDataAnalysis\") \\\n",
    "    .getOrCreate()\n",
    "\n"
   ]
  },
  {
   "cell_type": "code",
   "execution_count": 2,
   "metadata": {
    "application/vnd.databricks.v1+cell": {
     "cellMetadata": {
      "byteLimit": 2048000,
      "rowLimit": 10000
     },
     "inputWidgets": {},
     "nuid": "91a2ebe0-4389-4b1b-bfac-02aff31ac9aa",
     "showTitle": false,
     "tableResultSettingsMap": {},
     "title": ""
    }
   },
   "outputs": [],
   "source": [
    "# Example: Read logistics data stored in CSV format from an S3 bucket.\n",
    "# The CSV might include columns like shipment_id, origin, destination, timestamp, delivery_status, and cost.\n",
    "data_path = \"C:/Users/Hp/Downloads/Amazon/amazon_delivery.csv\"\n",
    "df = spark.read.csv(data_path, header=True, inferSchema=True)\n",
    "\n",
    "\n"
   ]
  },
  {
   "cell_type": "code",
   "execution_count": 3,
   "metadata": {
    "application/vnd.databricks.v1+cell": {
     "cellMetadata": {
      "byteLimit": 2048000,
      "rowLimit": 10000
     },
     "inputWidgets": {},
     "nuid": "77978a30-2478-44f3-8ae4-856abc16224f",
     "showTitle": false,
     "tableResultSettingsMap": {},
     "title": ""
    }
   },
   "outputs": [
    {
     "name": "stdout",
     "output_type": "stream",
     "text": [
      "root\n",
      " |-- Order_ID: string (nullable = true)\n",
      " |-- Agent_Age: integer (nullable = true)\n",
      " |-- Agent_Rating: double (nullable = true)\n",
      " |-- Store_Latitude: double (nullable = true)\n",
      " |-- Store_Longitude: double (nullable = true)\n",
      " |-- Drop_Latitude: double (nullable = true)\n",
      " |-- Drop_Longitude: double (nullable = true)\n",
      " |-- Order_Date: date (nullable = true)\n",
      " |-- Order_Time: string (nullable = true)\n",
      " |-- Pickup_Time: timestamp (nullable = true)\n",
      " |-- Weather: string (nullable = true)\n",
      " |-- Traffic: string (nullable = true)\n",
      " |-- Vehicle: string (nullable = true)\n",
      " |-- Area: string (nullable = true)\n",
      " |-- Delivery_Time: integer (nullable = true)\n",
      " |-- Category: string (nullable = true)\n",
      "\n"
     ]
    }
   ],
   "source": [
    "df.printSchema()  # Display column data types\n",
    "\n",
    "from pyspark.sql.functions import col, avg, count, hour, to_timestamp, max as spark_max\n"
   ]
  },
  {
   "cell_type": "code",
   "execution_count": 4,
   "metadata": {
    "application/vnd.databricks.v1+cell": {
     "cellMetadata": {
      "byteLimit": 2048000,
      "rowLimit": 10000
     },
     "inputWidgets": {},
     "nuid": "06bb162a-13c7-4331-b496-2716d19aeb18",
     "showTitle": false,
     "tableResultSettingsMap": {},
     "title": ""
    }
   },
   "outputs": [
    {
     "name": "stdout",
     "output_type": "stream",
     "text": [
      "+-------+-------------+------------------+------------------+------------------+------------------+-----------------+------------------+----------+-------+-------+--------+--------------+------------------+--------+\n",
      "|summary|     Order_ID|         Agent_Age|      Agent_Rating|    Store_Latitude|   Store_Longitude|    Drop_Latitude|    Drop_Longitude|Order_Time|Weather|Traffic| Vehicle|          Area|     Delivery_Time|Category|\n",
      "+-------+-------------+------------------+------------------+------------------+------------------+-----------------+------------------+----------+-------+-------+--------+--------------+------------------+--------+\n",
      "|  count|        43739|             43739|             43685|             43739|             43739|            43739|             43739|     43739|  43739|  43739|   43739|         43739|             43739|   43739|\n",
      "|   mean|         NULL|29.567136880129862| 4.633780473846859|17.210959870596536| 70.66117650789943|17.45903082500754| 70.82184159461912|       NaN|    NaN|    NaN|    NULL|          NULL|124.90564484784746|    NULL|\n",
      "| stddev|         NULL| 5.815155362000937|0.3347164077108931|   7.7642252738042|21.475004886563866|7.342950339706959|21.153148171785787|       NaN|    NaN|    NaN|    NULL|          NULL| 51.91545130091914|    NULL|\n",
      "|    min|aaar186826409|                15|               1.0|        -30.902872|        -88.366217|             0.01|              0.01|  00:00:00| Cloudy|  High |bicycle |Metropolitian |                10| Apparel|\n",
      "|    max|zzzr648105158|                50|               6.0|         30.914057|         88.433452|        31.054057|         88.563452|      NaN |  Windy|   NaN |     van|        Urban |               270|    Toys|\n",
      "+-------+-------------+------------------+------------------+------------------+------------------+-----------------+------------------+----------+-------+-------+--------+--------------+------------------+--------+\n",
      "\n"
     ]
    }
   ],
   "source": [
    "df.describe().show()  # Summary statistics"
   ]
  },
  {
   "cell_type": "code",
   "execution_count": 5,
   "metadata": {
    "application/vnd.databricks.v1+cell": {
     "cellMetadata": {
      "byteLimit": 2048000,
      "rowLimit": 10000
     },
     "inputWidgets": {},
     "nuid": "311b283c-8a07-4d6c-86e8-f6ee28c2ae6a",
     "showTitle": false,
     "tableResultSettingsMap": {},
     "title": ""
    }
   },
   "outputs": [
    {
     "name": "stdout",
     "output_type": "stream",
     "text": [
      "+-------------+---------+------------+--------------+---------------+-------------+--------------+----------+----------+-------------------+----------+-------+-----------+--------------+-------------+-----------+\n",
      "|     Order_ID|Agent_Age|Agent_Rating|Store_Latitude|Store_Longitude|Drop_Latitude|Drop_Longitude|Order_Date|Order_Time|        Pickup_Time|   Weather|Traffic|    Vehicle|          Area|Delivery_Time|   Category|\n",
      "+-------------+---------+------------+--------------+---------------+-------------+--------------+----------+----------+-------------------+----------+-------+-----------+--------------+-------------+-----------+\n",
      "|ialx566343618|       37|         4.9|     22.745049|      75.892471|    22.765049|     75.912471|2022-03-19|  11:30:00|2025-04-12 11:45:00|     Sunny|  High |motorcycle |        Urban |          120|   Clothing|\n",
      "|akqg208421122|       34|         4.5|     12.913041|      77.683237|    13.043041|     77.813237|2022-03-25|  19:45:00|2025-04-12 19:50:00|    Stormy|   Jam |   scooter |Metropolitian |          165|Electronics|\n",
      "|njpu434582536|       23|         4.4|     12.914264|        77.6784|    12.924264|       77.6884|2022-03-19|  08:30:00|2025-04-12 08:45:00|Sandstorms|   Low |motorcycle |        Urban |          130|     Sports|\n",
      "|rjto796129700|       38|         4.7|     11.003669|      76.976494|    11.053669|     77.026494|2022-04-05|  18:00:00|2025-04-12 18:10:00|     Sunny|Medium |motorcycle |Metropolitian |          105|  Cosmetics|\n",
      "|zguw716275638|       32|         4.6|     12.972793|      80.249982|    13.012793|     80.289982|2022-03-26|  13:30:00|2025-04-12 13:45:00|    Cloudy|  High |   scooter |Metropolitian |          150|       Toys|\n",
      "+-------------+---------+------------+--------------+---------------+-------------+--------------+----------+----------+-------------------+----------+-------+-----------+--------------+-------------+-----------+\n",
      "only showing top 5 rows\n",
      "\n"
     ]
    }
   ],
   "source": [
    "# 1️ Show first few rows\n",
    "df.show(5)"
   ]
  },
  {
   "cell_type": "code",
   "execution_count": 6,
   "metadata": {
    "application/vnd.databricks.v1+cell": {
     "cellMetadata": {
      "byteLimit": 2048000,
      "rowLimit": 10000
     },
     "inputWidgets": {},
     "nuid": "b844a699-5af5-4f63-b7d9-a878742a6253",
     "showTitle": false,
     "tableResultSettingsMap": {},
     "title": ""
    }
   },
   "outputs": [
    {
     "data": {
      "text/plain": [
       "43739"
      ]
     },
     "execution_count": 6,
     "metadata": {},
     "output_type": "execute_result"
    }
   ],
   "source": [
    "# 2. Count total orders\n",
    "df.count()\n",
    "\n"
   ]
  },
  {
   "cell_type": "code",
   "execution_count": 7,
   "metadata": {
    "application/vnd.databricks.v1+cell": {
     "cellMetadata": {
      "byteLimit": 2048000,
      "rowLimit": 10000
     },
     "inputWidgets": {},
     "nuid": "7d786a89-7564-4665-9fda-dcc1dca08692",
     "showTitle": false,
     "tableResultSettingsMap": {},
     "title": ""
    }
   },
   "outputs": [
    {
     "data": {
      "text/plain": [
       "4"
      ]
     },
     "execution_count": 7,
     "metadata": {},
     "output_type": "execute_result"
    }
   ],
   "source": [
    "# 3️ Count unique routes\n",
    "df.select(\"Area\").distinct().count()\n",
    "\n"
   ]
  },
  {
   "cell_type": "code",
   "execution_count": 8,
   "metadata": {
    "application/vnd.databricks.v1+cell": {
     "cellMetadata": {
      "byteLimit": 2048000,
      "rowLimit": 10000
     },
     "inputWidgets": {},
     "nuid": "b7e9c5c4-76af-4f81-b008-cbad5de236ba",
     "showTitle": false,
     "tableResultSettingsMap": {},
     "title": ""
    }
   },
   "outputs": [
    {
     "name": "stdout",
     "output_type": "stream",
     "text": [
      "+------------------+\n",
      "|avg(Delivery_Time)|\n",
      "+------------------+\n",
      "|124.90564484784746|\n",
      "+------------------+\n",
      "\n"
     ]
    }
   ],
   "source": [
    "# 4. Average delivery time\n",
    "df.select(avg(\"Delivery_Time\")).show()"
   ]
  },
  {
   "cell_type": "code",
   "execution_count": 9,
   "metadata": {
    "application/vnd.databricks.v1+cell": {
     "cellMetadata": {
      "byteLimit": 2048000,
      "rowLimit": 10000
     },
     "inputWidgets": {},
     "nuid": "dd648c9a-d9fc-4945-8712-fe2d703ea15e",
     "showTitle": false,
     "tableResultSettingsMap": {},
     "title": ""
    }
   },
   "outputs": [
    {
     "name": "stdout",
     "output_type": "stream",
     "text": [
      "+-------+-----+\n",
      "|Traffic|count|\n",
      "+-------+-----+\n",
      "|Medium |10628|\n",
      "|   NaN |   91|\n",
      "|   Low |14999|\n",
      "|  High | 4296|\n",
      "|   Jam |13725|\n",
      "+-------+-----+\n",
      "\n"
     ]
    }
   ],
   "source": [
    "# 5. Orders per traffic condition\n",
    "df.groupBy(\"Traffic\").count().show()\n",
    "\n",
    "\n",
    "\n",
    "\n"
   ]
  },
  {
   "cell_type": "code",
   "execution_count": 10,
   "metadata": {
    "application/vnd.databricks.v1+cell": {
     "cellMetadata": {
      "byteLimit": 2048000,
      "rowLimit": 10000
     },
     "inputWidgets": {},
     "nuid": "07baf4de-9093-4df5-8f32-5154c821dc61",
     "showTitle": false,
     "tableResultSettingsMap": {},
     "title": ""
    }
   },
   "outputs": [
    {
     "name": "stdout",
     "output_type": "stream",
     "text": [
      "+----------+-----+\n",
      "|   Weather|count|\n",
      "+----------+-----+\n",
      "|    Cloudy| 7288|\n",
      "|       Fog| 7440|\n",
      "|     Sunny| 7078|\n",
      "|       NaN|   91|\n",
      "|     Windy| 7223|\n",
      "|Sandstorms| 7245|\n",
      "|    Stormy| 7374|\n",
      "+----------+-----+\n",
      "\n"
     ]
    }
   ],
   "source": [
    "# 6. Orders per weather condition\n",
    "df.groupBy(\"Weather\").count().show()\n",
    "\n",
    "\n",
    "\n",
    "\n",
    "\n"
   ]
  },
  {
   "cell_type": "code",
   "execution_count": 11,
   "metadata": {
    "application/vnd.databricks.v1+cell": {
     "cellMetadata": {
      "byteLimit": 2048000,
      "rowLimit": 10000
     },
     "inputWidgets": {},
     "nuid": "3d3857e7-de68-496e-871a-54ee8345e0c2",
     "showTitle": false,
     "tableResultSettingsMap": {},
     "title": ""
    }
   },
   "outputs": [
    {
     "name": "stdout",
     "output_type": "stream",
     "text": [
      "+-----------+-----+\n",
      "|    Vehicle|count|\n",
      "+-----------+-----+\n",
      "|        van| 3558|\n",
      "|motorcycle |25527|\n",
      "|   bicycle |   15|\n",
      "|   scooter |14639|\n",
      "+-----------+-----+\n",
      "\n"
     ]
    }
   ],
   "source": [
    "# 7. Count vehicle types used\n",
    "df.groupBy(\"Vehicle\").count().show()\n",
    "\n",
    "\n",
    "\n"
   ]
  },
  {
   "cell_type": "code",
   "execution_count": 12,
   "metadata": {
    "application/vnd.databricks.v1+cell": {
     "cellMetadata": {
      "byteLimit": 2048000,
      "rowLimit": 10000
     },
     "inputWidgets": {},
     "nuid": "560ddf02-7707-4984-abb0-0c5456d78d26",
     "showTitle": false,
     "tableResultSettingsMap": {},
     "title": ""
    }
   },
   "outputs": [
    {
     "name": "stdout",
     "output_type": "stream",
     "text": [
      "+------------+-----+\n",
      "|    Category|count|\n",
      "+------------+-----+\n",
      "|     Kitchen| 2673|\n",
      "|        Home| 2685|\n",
      "|      Sports| 2719|\n",
      "|    Skincare| 2772|\n",
      "|Pet Supplies| 2690|\n",
      "|     Apparel| 2726|\n",
      "|     Grocery| 2691|\n",
      "| Electronics| 2849|\n",
      "|    Outdoors| 2747|\n",
      "|    Clothing| 2667|\n",
      "|       Books| 2824|\n",
      "|   Cosmetics| 2677|\n",
      "|       Shoes| 2666|\n",
      "|     Jewelry| 2802|\n",
      "|        Toys| 2781|\n",
      "|      Snacks| 2770|\n",
      "+------------+-----+\n",
      "\n"
     ]
    }
   ],
   "source": [
    "# 8. Orders by category\n",
    "df.groupBy(\"Category\").count().show()\n",
    "\n",
    "\n",
    "\n"
   ]
  },
  {
   "cell_type": "code",
   "execution_count": 13,
   "metadata": {
    "application/vnd.databricks.v1+cell": {
     "cellMetadata": {
      "byteLimit": 2048000,
      "rowLimit": 10000
     },
     "inputWidgets": {},
     "nuid": "7aca339d-7a09-44a8-841e-35bdc0f7eb79",
     "showTitle": false,
     "tableResultSettingsMap": {},
     "title": ""
    }
   },
   "outputs": [
    {
     "name": "stdout",
     "output_type": "stream",
     "text": [
      "+-----------------+\n",
      "|max(Agent_Rating)|\n",
      "+-----------------+\n",
      "|              6.0|\n",
      "+-----------------+\n",
      "\n"
     ]
    }
   ],
   "source": [
    "# 9. Maximum agent rating\n",
    "df.select(spark_max(\"Agent_Rating\")).show()\n",
    "\n",
    "\n"
   ]
  },
  {
   "cell_type": "code",
   "execution_count": 14,
   "metadata": {
    "application/vnd.databricks.v1+cell": {
     "cellMetadata": {
      "byteLimit": 2048000,
      "rowLimit": 10000
     },
     "inputWidgets": {},
     "nuid": "d07b3d43-e044-4daa-918b-8ccb7a95d724",
     "showTitle": false,
     "tableResultSettingsMap": {},
     "title": ""
    }
   },
   "outputs": [
    {
     "name": "stdout",
     "output_type": "stream",
     "text": [
      "+----------+-----+\n",
      "|Order_Date|count|\n",
      "+----------+-----+\n",
      "|2022-02-11|  940|\n",
      "|2022-02-12|  837|\n",
      "|2022-02-13|  924|\n",
      "|2022-02-14|  826|\n",
      "|2022-02-15|  904|\n",
      "|2022-02-16|  827|\n",
      "|2022-02-17|  905|\n",
      "|2022-02-18|  819|\n",
      "|2022-03-01| 1076|\n",
      "|2022-03-02|  969|\n",
      "|2022-03-03| 1119|\n",
      "|2022-03-04|  944|\n",
      "|2022-03-05| 1112|\n",
      "|2022-03-06|  949|\n",
      "|2022-03-07| 1093|\n",
      "|2022-03-08|  919|\n",
      "|2022-03-09| 1117|\n",
      "|2022-03-10|  947|\n",
      "|2022-03-11| 1094|\n",
      "|2022-03-12|  931|\n",
      "+----------+-----+\n",
      "only showing top 20 rows\n",
      "\n"
     ]
    }
   ],
   "source": [
    "# 10. Delivery count per day\n",
    "df.groupBy(\"Order_Date\").count().orderBy(\"Order_Date\").show()"
   ]
  },
  {
   "cell_type": "code",
   "execution_count": 15,
   "metadata": {
    "application/vnd.databricks.v1+cell": {
     "cellMetadata": {
      "byteLimit": 2048000,
      "rowLimit": 10000
     },
     "inputWidgets": {},
     "nuid": "0e62488f-b7a5-41a0-94da-2cb58aea8f97",
     "showTitle": false,
     "tableResultSettingsMap": {},
     "title": ""
    }
   },
   "outputs": [
    {
     "name": "stdout",
     "output_type": "stream",
     "text": [
      "+-------------+--------------------+\n",
      "|     Order_ID|               Speed|\n",
      "+-------------+--------------------+\n",
      "|ialx566343618|2.337543078302379E-4|\n",
      "|akqg208421122|0.001107516645231...|\n",
      "|njpu434582536|1.079552337689746E-4|\n",
      "|rjto796129700|6.670818690438867E-4|\n",
      "|zguw716275638| 3.74626109237873E-4|\n",
      "|fxuu788413734|3.238657013068279...|\n",
      "|njmo150975311|7.739477207016898E-4|\n",
      "|jvjc772545076|0.001141911572102...|\n",
      "|uaeb808891380|0.001075133117593617|\n",
      "|bgvc052754213|4.285495643555069E-4|\n",
      "|vmau710398846|4.876598490942036E-4|\n",
      "|lcwn330553507|0.001200747364279...|\n",
      "|wcjs752046999|2.800422895787998...|\n",
      "|blhl288691670|8.924648694587302E-4|\n",
      "|zyvo118176215|0.001260190303104...|\n",
      "|uhfs888375680|0.001663780661615...|\n",
      "|vmfv999642595|7.739477207016898E-4|\n",
      "|qfgc848777135|4.805580066316606E-4|\n",
      "|vwmc439983136|5.582421956735782E-4|\n",
      "|ntzy027061451|6.250706745792088E-4|\n",
      "+-------------+--------------------+\n",
      "only showing top 20 rows\n",
      "\n"
     ]
    }
   ],
   "source": [
    "from pyspark.sql.functions import when, unix_timestamp, expr, stddev\n",
    "\n",
    "# 1. Calculate delivery speed (Delivery_Time per km)\n",
    "df_with_speed = df.withColumn(\"Distance\", \n",
    "    expr(\"sqrt(pow(Drop_Latitude - Store_Latitude, 2) + pow(Drop_Longitude - Store_Longitude, 2))\")\n",
    ").withColumn(\"Speed\", col(\"Distance\") / (col(\"Delivery_Time\") + 1))\n",
    "df_with_speed.select(\"Order_ID\", \"Speed\").show()\n",
    "\n",
    "\n",
    "\n"
   ]
  },
  {
   "cell_type": "code",
   "execution_count": 16,
   "metadata": {
    "application/vnd.databricks.v1+cell": {
     "cellMetadata": {
      "byteLimit": 2048000,
      "rowLimit": 10000
     },
     "inputWidgets": {},
     "nuid": "51e3f4e4-a1b0-418e-a5a6-351b802e0ecf",
     "showTitle": false,
     "tableResultSettingsMap": {},
     "title": ""
    }
   },
   "outputs": [
    {
     "name": "stdout",
     "output_type": "stream",
     "text": [
      "+-----------+-----+\n",
      "|Pickup_Hour|count|\n",
      "+-----------+-----+\n",
      "|          0| 1259|\n",
      "|          8| 1435|\n",
      "|          9| 1950|\n",
      "|         10| 2029|\n",
      "|         11| 1907|\n",
      "|         12| 1126|\n",
      "|         13|  756|\n",
      "|         14|  780|\n",
      "|         15|  865|\n",
      "|         16|  744|\n",
      "|         17| 3533|\n",
      "|         18| 4590|\n",
      "|         19| 4468|\n",
      "|         20| 4575|\n",
      "|         21| 4624|\n",
      "|         22| 4605|\n",
      "|         23| 4493|\n",
      "+-----------+-----+\n",
      "\n"
     ]
    }
   ],
   "source": [
    "# 2. Peak delivery hours\n",
    "df_with_hour = df.withColumn(\"Pickup_Hour\", hour(col(\"Pickup_Time\")))\n",
    "df_with_hour.groupBy(\"Pickup_Hour\").count().orderBy(\"Pickup_Hour\").show()\n",
    "\n",
    "\n",
    "\n"
   ]
  },
  {
   "cell_type": "code",
   "execution_count": 17,
   "metadata": {
    "application/vnd.databricks.v1+cell": {
     "cellMetadata": {
      "byteLimit": 2048000,
      "rowLimit": 10000
     },
     "inputWidgets": {},
     "nuid": "770900e7-7367-4e02-a8ff-5a3a1878781f",
     "showTitle": false,
     "tableResultSettingsMap": {},
     "title": ""
    }
   },
   "outputs": [
    {
     "name": "stdout",
     "output_type": "stream",
     "text": [
      "+-------+------------------+\n",
      "|Traffic| Avg_Delivery_Time|\n",
      "+-------+------------------+\n",
      "|   Jam |147.75897996357014|\n",
      "|  High |129.42411545623835|\n",
      "|Medium |126.83966879939781|\n",
      "|   NaN |120.67032967032966|\n",
      "|   Low | 101.3545569704647|\n",
      "+-------+------------------+\n",
      "\n"
     ]
    }
   ],
   "source": [
    "# 3. Impact of traffic on delivery time\n",
    "df.groupBy(\"Traffic\").agg(avg(\"Delivery_Time\").alias(\"Avg_Delivery_Time\")).orderBy(\"Avg_Delivery_Time\", ascending=False).show()\n",
    "\n"
   ]
  },
  {
   "cell_type": "code",
   "execution_count": 18,
   "metadata": {
    "application/vnd.databricks.v1+cell": {
     "cellMetadata": {
      "byteLimit": 2048000,
      "rowLimit": 10000
     },
     "inputWidgets": {},
     "nuid": "487562e6-af04-409e-a488-c9053b613fcd",
     "showTitle": false,
     "tableResultSettingsMap": {},
     "title": ""
    }
   },
   "outputs": [
    {
     "name": "stdout",
     "output_type": "stream",
     "text": [
      "+--------------+------------------+\n",
      "|          Area|      Delivery_STD|\n",
      "+--------------+------------------+\n",
      "|Metropolitian | 51.57897107028247|\n",
      "|        Urban | 48.18501090558868|\n",
      "|   Semi-Urban | 47.03328249126465|\n",
      "|         Other|45.943400363501105|\n",
      "+--------------+------------------+\n",
      "\n"
     ]
    }
   ],
   "source": [
    "# 4. Standard deviation of delivery time by area\n",
    "df.groupBy(\"Area\").agg(stddev(\"Delivery_Time\").alias(\"Delivery_STD\")).orderBy(\"Delivery_STD\", ascending=False).show()\n",
    "\n",
    "\n",
    "\n"
   ]
  },
  {
   "cell_type": "code",
   "execution_count": 19,
   "metadata": {
    "application/vnd.databricks.v1+cell": {
     "cellMetadata": {
      "byteLimit": 2048000,
      "rowLimit": 10000
     },
     "inputWidgets": {},
     "nuid": "9c00e74b-97eb-4e07-ac6f-957a84783e48",
     "showTitle": false,
     "tableResultSettingsMap": {},
     "title": ""
    }
   },
   "outputs": [
    {
     "name": "stdout",
     "output_type": "stream",
     "text": [
      "+------------+------------------+\n",
      "|Agent_Rating| Avg_Delivery_Time|\n",
      "+------------+------------------+\n",
      "|        NULL|123.33333333333333|\n",
      "|         1.0|             130.0|\n",
      "|         2.5|             180.3|\n",
      "|         2.6|172.77272727272728|\n",
      "|         2.7| 179.3181818181818|\n",
      "|         2.8| 168.8421052631579|\n",
      "|         2.9|175.57894736842104|\n",
      "|         3.0|163.33333333333334|\n",
      "|         3.1|182.75862068965517|\n",
      "|         3.2|177.17241379310346|\n",
      "|         3.3|             180.2|\n",
      "|         3.4|         173.46875|\n",
      "|         3.5|173.04016064257027|\n",
      "|         3.6| 171.3574879227053|\n",
      "|         3.7|172.77333333333334|\n",
      "|         3.8|175.32894736842104|\n",
      "|         3.9|178.28426395939087|\n",
      "|         4.0|163.88115134633242|\n",
      "|         4.1|165.17342657342658|\n",
      "|         4.2|165.61283497884344|\n",
      "+------------+------------------+\n",
      "only showing top 20 rows\n",
      "\n"
     ]
    }
   ],
   "source": [
    "# 5. Agent performance (rating vs delivery time)\n",
    "df.groupBy(\"Agent_Rating\").agg(avg(\"Delivery_Time\").alias(\"Avg_Delivery_Time\")).orderBy(\"Agent_Rating\").show()"
   ]
  },
  {
   "cell_type": "markdown",
   "metadata": {},
   "source": [
    "visualization"
   ]
  },
  {
   "cell_type": "code",
   "execution_count": 20,
   "metadata": {},
   "outputs": [
    {
     "data": {
      "image/png": "[encoded data removed]",
      "text/plain": [
       "<Figure size 1000x600 with 1 Axes>"
      ]
     },
     "metadata": {},
     "output_type": "display_data"
    }
   ],
   "source": [
    "# Convert PySpark DataFrame to Pandas for plotting\n",
    "area_delivery = df.groupBy(\"Area\").agg(avg(\"Delivery_Time\").alias(\"Avg_Delivery\")).toPandas()\n",
    "\n",
    "# Bar plot for delivery time by area\n",
    "plt.figure(figsize=(10,6))\n",
    "plt.bar(area_delivery[\"Area\"], area_delivery[\"Avg_Delivery\"], color='skyblue')\n",
    "plt.xlabel(\"Area\")\n",
    "plt.ylabel(\"Average Delivery Time\")\n",
    "plt.title(\"Average Delivery Time by Area\")\n",
    "plt.xticks(rotation=45)\n",
    "plt.tight_layout()\n",
    "plt.show()\n"
   ]
  }
 ],
 "metadata": {
  "application/vnd.databricks.v1+notebook": {
   "computePreferences": null,
   "dashboards": [],
   "environmentMetadata": {
    "base_environment": "",
    "environment_version": "1"
   },
   "inputWidgetPreferences": null,
   "language": "python",
   "notebookMetadata": {
    "pythonIndentUnit": 4
   },
   "notebookName": "Big Data in logistics",
   "widgets": {}
  },
  "kernelspec": {
   "display_name": "base",
   "language": "python",
   "name": "python3"
  },
  "language_info": {
   "codemirror_mode": {
    "name": "ipython",
    "version": 3
   },
   "file_extension": ".py",
   "mimetype": "text/x-python",
   "name": "python",
   "nbconvert_exporter": "python",
   "pygments_lexer": "ipython3",
   "version": "3.12.7"
  }
 },
 "nbformat": 4,
 "nbformat_minor": 0
}
